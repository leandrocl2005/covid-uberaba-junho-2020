{
 "cells": [
  {
   "cell_type": "markdown",
   "metadata": {},
   "source": [
    "<h1>Prevendo o número de casos de COVID-19 em Uberaba usando Python</h1>"
   ]
  },
  {
   "cell_type": "markdown",
   "metadata": {},
   "source": [
    "<h2>Bibliotecas</h2>"
   ]
  },
  {
   "cell_type": "code",
   "execution_count": 2,
   "metadata": {},
   "outputs": [],
   "source": [
    "import warnings\n",
    "warnings.simplefilter(\"ignore\")\n",
    "import pandas as pd\n",
    "import numpy as np\n",
    "import matplotlib.pyplot as plt\n",
    "from scipy import optimize\n",
    "from datetime import datetime, timedelta"
   ]
  },
  {
   "cell_type": "markdown",
   "metadata": {},
   "source": [
    "<h2>Dados</h2>"
   ]
  },
  {
   "cell_type": "markdown",
   "metadata": {},
   "source": [
    "Fonte: https://coviduberaba.github.io/"
   ]
  },
  {
   "cell_type": "code",
   "execution_count": 3,
   "metadata": {},
   "outputs": [
    {
     "data": {
      "text/html": [
       "<div>\n",
       "<style scoped>\n",
       "    .dataframe tbody tr th:only-of-type {\n",
       "        vertical-align: middle;\n",
       "    }\n",
       "\n",
       "    .dataframe tbody tr th {\n",
       "        vertical-align: top;\n",
       "    }\n",
       "\n",
       "    .dataframe thead th {\n",
       "        text-align: right;\n",
       "    }\n",
       "</style>\n",
       "<table border=\"1\" class=\"dataframe\">\n",
       "  <thead>\n",
       "    <tr style=\"text-align: right;\">\n",
       "      <th></th>\n",
       "      <th>Data</th>\n",
       "      <th>Total Confirmados</th>\n",
       "      <th>Recuperados</th>\n",
       "      <th>Total Diário</th>\n",
       "      <th>Óbitos</th>\n",
       "      <th>Casos Ativos</th>\n",
       "    </tr>\n",
       "  </thead>\n",
       "  <tbody>\n",
       "    <tr>\n",
       "      <th>0</th>\n",
       "      <td>Mar 16, 2020</td>\n",
       "      <td>1</td>\n",
       "      <td>0</td>\n",
       "      <td>1</td>\n",
       "      <td>0</td>\n",
       "      <td>1</td>\n",
       "    </tr>\n",
       "    <tr>\n",
       "      <th>1</th>\n",
       "      <td>Mar 17, 2020</td>\n",
       "      <td>1</td>\n",
       "      <td>0</td>\n",
       "      <td>0</td>\n",
       "      <td>0</td>\n",
       "      <td>1</td>\n",
       "    </tr>\n",
       "    <tr>\n",
       "      <th>2</th>\n",
       "      <td>Mar 18, 2020</td>\n",
       "      <td>3</td>\n",
       "      <td>0</td>\n",
       "      <td>2</td>\n",
       "      <td>0</td>\n",
       "      <td>3</td>\n",
       "    </tr>\n",
       "    <tr>\n",
       "      <th>3</th>\n",
       "      <td>Mar 19, 2020</td>\n",
       "      <td>3</td>\n",
       "      <td>0</td>\n",
       "      <td>0</td>\n",
       "      <td>0</td>\n",
       "      <td>3</td>\n",
       "    </tr>\n",
       "    <tr>\n",
       "      <th>4</th>\n",
       "      <td>Mar 20, 2020</td>\n",
       "      <td>3</td>\n",
       "      <td>0</td>\n",
       "      <td>0</td>\n",
       "      <td>0</td>\n",
       "      <td>3</td>\n",
       "    </tr>\n",
       "  </tbody>\n",
       "</table>\n",
       "</div>"
      ],
      "text/plain": [
       "           Data  Total Confirmados  Recuperados  Total Diário  Óbitos  \\\n",
       "0  Mar 16, 2020                  1            0             1       0   \n",
       "1  Mar 17, 2020                  1            0             0       0   \n",
       "2  Mar 18, 2020                  3            0             2       0   \n",
       "3  Mar 19, 2020                  3            0             0       0   \n",
       "4  Mar 20, 2020                  3            0             0       0   \n",
       "\n",
       "   Casos Ativos  \n",
       "0             1  \n",
       "1             1  \n",
       "2             3  \n",
       "3             3  \n",
       "4             3  "
      ]
     },
     "execution_count": 3,
     "metadata": {},
     "output_type": "execute_result"
    }
   ],
   "source": [
    "# Carregando os dados\n",
    "df = pd.read_csv(\"data.csv\")\n",
    "df.head()"
   ]
  },
  {
   "cell_type": "markdown",
   "metadata": {},
   "source": [
    "<h2>Preparação dos dados</h2>"
   ]
  },
  {
   "cell_type": "code",
   "execution_count": 4,
   "metadata": {},
   "outputs": [
    {
     "data": {
      "text/html": [
       "<div>\n",
       "<style scoped>\n",
       "    .dataframe tbody tr th:only-of-type {\n",
       "        vertical-align: middle;\n",
       "    }\n",
       "\n",
       "    .dataframe tbody tr th {\n",
       "        vertical-align: top;\n",
       "    }\n",
       "\n",
       "    .dataframe thead th {\n",
       "        text-align: right;\n",
       "    }\n",
       "</style>\n",
       "<table border=\"1\" class=\"dataframe\">\n",
       "  <thead>\n",
       "    <tr style=\"text-align: right;\">\n",
       "      <th></th>\n",
       "      <th>total</th>\n",
       "    </tr>\n",
       "    <tr>\n",
       "      <th>Data</th>\n",
       "      <th></th>\n",
       "    </tr>\n",
       "  </thead>\n",
       "  <tbody>\n",
       "    <tr>\n",
       "      <th>2020-03-16</th>\n",
       "      <td>1</td>\n",
       "    </tr>\n",
       "    <tr>\n",
       "      <th>2020-03-17</th>\n",
       "      <td>1</td>\n",
       "    </tr>\n",
       "    <tr>\n",
       "      <th>2020-03-18</th>\n",
       "      <td>3</td>\n",
       "    </tr>\n",
       "    <tr>\n",
       "      <th>2020-03-19</th>\n",
       "      <td>3</td>\n",
       "    </tr>\n",
       "    <tr>\n",
       "      <th>2020-03-20</th>\n",
       "      <td>3</td>\n",
       "    </tr>\n",
       "  </tbody>\n",
       "</table>\n",
       "</div>"
      ],
      "text/plain": [
       "            total\n",
       "Data             \n",
       "2020-03-16      1\n",
       "2020-03-17      1\n",
       "2020-03-18      3\n",
       "2020-03-19      3\n",
       "2020-03-20      3"
      ]
     },
     "execution_count": 4,
     "metadata": {},
     "output_type": "execute_result"
    }
   ],
   "source": [
    "# criando um índice de data\n",
    "df.index = pd.to_datetime(df.Data, infer_datetime_format=True)\n",
    "df.drop(\"Data\", 1, inplace=True)\n",
    "\n",
    "# selecionando apenas coluna de \"Total Confirmados\"\n",
    "df = df[[\"Total Confirmados\"]]\n",
    "\n",
    "# renomeando a coluna para \"total\"\n",
    "df.columns = [\"total\"]\n",
    "\n",
    "# visualiando as 5 primeiras linhas do conjunto de dados\n",
    "df.head()"
   ]
  },
  {
   "cell_type": "markdown",
   "metadata": {},
   "source": [
    "<h2>Explorando os dados</h2>"
   ]
  },
  {
   "cell_type": "code",
   "execution_count": 5,
   "metadata": {},
   "outputs": [
    {
     "data": {
      "image/png": "[encoded data removed]",
      "text/plain": [
       "<Figure size 936x360 with 1 Axes>"
      ]
     },
     "metadata": {
      "needs_background": "light"
     },
     "output_type": "display_data"
    }
   ],
   "source": [
    "fig, ax = plt.subplots(figsize=(13,5))\n",
    "ax.scatter(\n",
    "    df[\"total\"].index,\n",
    "    df[\"total\"].values,\n",
    "    color=\"black\"\n",
    ")\n",
    "plt.show()"
   ]
  },
  {
   "cell_type": "markdown",
   "metadata": {},
   "source": [
    "<h2>Modelagem usando a curva exponencial</h2>"
   ]
  },
  {
   "cell_type": "code",
   "execution_count": 6,
   "metadata": {},
   "outputs": [
    {
     "data": {
      "image/png": "[encoded data removed]",
      "text/plain": [
       "<Figure size 432x288 with 1 Axes>"
      ]
     },
     "metadata": {
      "needs_background": "light"
     },
     "output_type": "display_data"
    }
   ],
   "source": [
    "# funcão exponecial com parâmetros a, b e c\n",
    "def exp_func(X, a, b, c):\n",
    "    y = a + b**(X-c)\n",
    "    return y\n",
    "\n",
    "# otimização usando scipy\n",
    "popt, pcov = optimize.curve_fit(exp_func, np.arange(len(df[\"total\"])), df[\"total\"].values)\n",
    "\n",
    "# gráfico\n",
    "plt.plot(np.arange(len(df[\"total\"])), exp_func(np.arange(len(df[\"total\"])), *popt), 'g--',\n",
    "         label='fit: a=%5.3f, b=%5.3f, c=%5.3f' % tuple(popt))\n",
    "plt.plot(np.arange(len(df[\"total\"])), df[\"total\"].values)\n",
    "plt.xlabel('x')\n",
    "plt.ylabel('y')\n",
    "plt.legend()\n",
    "plt.show()"
   ]
  },
  {
   "cell_type": "code",
   "execution_count": 7,
   "metadata": {},
   "outputs": [
    {
     "name": "stdout",
     "output_type": "stream",
     "text": [
      "Amanhã: 721\n",
      "Depois de amanhã: 753\n"
     ]
    }
   ],
   "source": [
    "# criando função pra converter data em dias\n",
    "def data_to_days(date):\n",
    "    x = (date - df.index[-1]).days + len(df['total'])\n",
    "    return x\n",
    "\n",
    "# criando o modelo usando os parâmetros ajustados\n",
    "def exp_model(X):\n",
    "    X = data_to_days(X)\n",
    "    y = -9.395 + 1.044 ** (X - (-52.146))\n",
    "    return int(y)\n",
    "\n",
    "tomorrow = datetime.today() + timedelta(days=1)\n",
    "after_tomorrow = datetime.today() + timedelta(days=2)\n",
    "\n",
    "print(\"Amanhã:\", exp_model(tomorrow))\n",
    "print(\"Depois de amanhã:\", exp_model(after_tomorrow))"
   ]
  },
  {
   "cell_type": "markdown",
   "metadata": {},
   "source": [
    "<h2>Modelagem usando a curva gaussiana</h2>"
   ]
  },
  {
   "cell_type": "code",
   "execution_count": 8,
   "metadata": {},
   "outputs": [
    {
     "data": {
      "image/png": "[encoded data removed]",
      "text/plain": [
       "<Figure size 432x288 with 1 Axes>"
      ]
     },
     "metadata": {
      "needs_background": "light"
     },
     "output_type": "display_data"
    }
   ],
   "source": [
    "# funcão gaussiana com parâmetros a, b e c\n",
    "def gaussian_func(X, a, b, c):\n",
    "    y = a * np.exp( -(X-b)**2 / (2*c**2) )\n",
    "    return y\n",
    "\n",
    "# otimização usando scipy\n",
    "popt, pcov = optimize.curve_fit(gaussian_func, np.arange(len(df[\"total\"])), df[\"total\"].values)\n",
    "\n",
    "# gráfico\n",
    "plt.plot(np.arange(len(df[\"total\"])), gaussian_func(np.arange(len(df[\"total\"])), *popt), 'g--',\n",
    "         label='fit: a=%5.3f, b=%5.3f, c=%5.3f' % tuple(popt))\n",
    "plt.plot(np.arange(len(df[\"total\"])), df[\"total\"].values)\n",
    "plt.xlabel('x')\n",
    "plt.ylabel('y')\n",
    "plt.legend()\n",
    "plt.show()"
   ]
  },
  {
   "cell_type": "code",
   "execution_count": 9,
   "metadata": {},
   "outputs": [
    {
     "name": "stdout",
     "output_type": "stream",
     "text": [
      "Amanhã: 710\n",
      "Depois de amanhã: 737\n"
     ]
    }
   ],
   "source": [
    "# criando o modelo usando os parâmetros ajustados\n",
    "def gaussian_model(X):\n",
    "    X = data_to_days(X)\n",
    "    y = 7078.134 * np.exp( -(X-222.597)**2 / (2*56.703**2) )\n",
    "    return int(y)\n",
    "\n",
    "tomorrow = datetime.today() + timedelta(days=1)\n",
    "after_tomorrow = datetime.today() + timedelta(days=2)\n",
    "\n",
    "print(\"Amanhã:\", gaussian_model(tomorrow))\n",
    "print(\"Depois de amanhã:\", gaussian_model(after_tomorrow))"
   ]
  },
  {
   "cell_type": "markdown",
   "metadata": {},
   "source": [
    "<h2>Modelagem usando sigmoid</h2>"
   ]
  },
  {
   "cell_type": "code",
   "execution_count": 17,
   "metadata": {},
   "outputs": [
    {
     "data": {
      "image/png": "[encoded data removed]",
      "text/plain": [
       "<Figure size 432x288 with 1 Axes>"
      ]
     },
     "metadata": {
      "needs_background": "light"
     },
     "output_type": "display_data"
    }
   ],
   "source": [
    "# funcão gaussiana com parâmetros a, b, c e d\n",
    "def sigmoid_func(X, a, b, c, d):\n",
    "    y =  a / (1 + np.exp( -(X - b) / c)) ** d\n",
    "    return y\n",
    "\n",
    "# otimização usando scipy\n",
    "popt, pcov = optimize.curve_fit(sigmoid_func, np.arange(len(df[\"total\"])), df[\"total\"].values)\n",
    "\n",
    "# gráfico\n",
    "plt.plot(np.arange(len(df[\"total\"])), sigmoid_func(np.arange(len(df[\"total\"])), *popt), 'g--',\n",
    "         label='fit: a=%5.3f, b=%5.3f, c=%5.3f d=%5.3f' % tuple(popt))\n",
    "plt.plot(np.arange(len(df[\"total\"])), df[\"total\"].values)\n",
    "plt.xlabel('x')\n",
    "plt.ylabel('y')\n",
    "plt.legend()\n",
    "plt.show()"
   ]
  },
  {
   "cell_type": "code",
   "execution_count": 18,
   "metadata": {},
   "outputs": [
    {
     "name": "stdout",
     "output_type": "stream",
     "text": [
      "Amanhã: 567\n",
      "Depois de amanhã: 570\n"
     ]
    }
   ],
   "source": [
    "# criando o modelo usando os parâmetros ajustados\n",
    "def sigmoid_model(X):\n",
    "    X = data_to_days(X)\n",
    "    y =  577.564 / (1 + np.exp( -(X - 92.688) / 3.301)) ** 0.167\n",
    "    return int(y)\n",
    "\n",
    "tomorrow = datetime.today() + timedelta(days=1)\n",
    "after_tomorrow = datetime.today() + timedelta(days=2)\n",
    "\n",
    "print(\"Amanhã:\", sigmoid_model(tomorrow))\n",
    "print(\"Depois de amanhã:\", sigmoid_model(after_tomorrow))"
   ]
  },
  {
   "cell_type": "code",
   "execution_count": null,
   "metadata": {},
   "outputs": [],
   "source": []
  }
 ],
 "metadata": {
  "kernelspec": {
   "display_name": "Python 3",
   "language": "python",
   "name": "python3"
  },
  "language_info": {
   "codemirror_mode": {
    "name": "ipython",
    "version": 3
   },
   "file_extension": ".py",
   "mimetype": "text/x-python",
   "name": "python",
   "nbconvert_exporter": "python",
   "pygments_lexer": "ipython3",
   "version": "3.7.7"
  }
 },
 "nbformat": 4,
 "nbformat_minor": 4
}
